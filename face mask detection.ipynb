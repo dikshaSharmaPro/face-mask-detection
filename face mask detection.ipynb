{
 "cells": [
  {
   "cell_type": "code",
   "execution_count": 1,
   "id": "1ce9e778",
   "metadata": {},
   "outputs": [
    {
     "name": "stdout",
     "output_type": "stream",
     "text": [
      "0\n",
      "1\n",
      "2\n",
      "3\n",
      "4\n",
      "5\n",
      "6\n",
      "7\n",
      "8\n",
      "9\n",
      "10\n",
      "11\n",
      "12\n",
      "13\n",
      "14\n",
      "15\n",
      "16\n",
      "17\n",
      "18\n",
      "19\n",
      "20\n",
      "21\n",
      "22\n",
      "23\n",
      "24\n",
      "25\n",
      "26\n",
      "27\n",
      "28\n",
      "29\n",
      "30\n",
      "31\n",
      "32\n",
      "33\n",
      "34\n",
      "35\n",
      "36\n",
      "37\n",
      "38\n",
      "39\n",
      "40\n",
      "41\n",
      "42\n",
      "43\n",
      "44\n",
      "45\n",
      "46\n",
      "47\n",
      "48\n",
      "49\n",
      "50\n",
      "51\n",
      "52\n",
      "53\n",
      "54\n",
      "55\n",
      "56\n",
      "57\n",
      "58\n",
      "59\n",
      "60\n",
      "61\n",
      "62\n",
      "63\n",
      "64\n",
      "65\n",
      "66\n",
      "67\n",
      "68\n",
      "69\n",
      "70\n",
      "71\n",
      "72\n",
      "73\n",
      "74\n",
      "75\n",
      "76\n",
      "77\n",
      "78\n",
      "79\n",
      "80\n",
      "81\n",
      "82\n",
      "83\n",
      "84\n",
      "85\n",
      "86\n",
      "87\n",
      "88\n",
      "89\n",
      "90\n",
      "91\n",
      "92\n",
      "93\n",
      "94\n",
      "95\n",
      "96\n",
      "97\n",
      "98\n",
      "99\n",
      "100\n",
      "101\n",
      "102\n",
      "103\n",
      "104\n",
      "105\n",
      "106\n",
      "107\n",
      "108\n",
      "109\n",
      "110\n",
      "111\n",
      "112\n",
      "113\n",
      "114\n",
      "115\n",
      "116\n",
      "117\n",
      "118\n",
      "119\n",
      "120\n",
      "121\n",
      "122\n",
      "123\n",
      "124\n",
      "125\n",
      "126\n",
      "127\n",
      "128\n",
      "129\n",
      "130\n",
      "131\n",
      "132\n",
      "133\n",
      "134\n",
      "135\n",
      "136\n",
      "137\n",
      "138\n",
      "139\n",
      "140\n",
      "141\n",
      "142\n",
      "143\n",
      "144\n",
      "145\n",
      "146\n",
      "147\n",
      "148\n",
      "149\n",
      "150\n",
      "151\n",
      "152\n",
      "153\n",
      "154\n",
      "155\n",
      "156\n",
      "157\n",
      "158\n",
      "159\n",
      "160\n",
      "161\n",
      "162\n",
      "163\n",
      "164\n",
      "165\n",
      "166\n",
      "167\n",
      "168\n",
      "169\n",
      "170\n",
      "171\n",
      "172\n",
      "173\n",
      "174\n",
      "175\n",
      "176\n",
      "177\n",
      "178\n",
      "179\n",
      "180\n",
      "181\n",
      "182\n",
      "183\n",
      "184\n",
      "185\n",
      "186\n",
      "187\n",
      "188\n",
      "189\n",
      "190\n",
      "191\n",
      "192\n",
      "193\n",
      "194\n",
      "195\n",
      "196\n",
      "197\n",
      "198\n",
      "199\n"
     ]
    }
   ],
   "source": [
    "import numpy as np\n",
    "import cv2\n",
    "#!/usr/bin/python3\n",
    "# -*- coding: utf-8 -*-\n",
    "captured = cv2.VideoCapture(0)\n",
    "data =[]\n",
    "haar_data = cv2.CascadeClassifier(r\"C:\\Users\\Dell\\Downloads\\haarcascade_frontalface_default.xml\")\n",
    "\n",
    "while 1:\n",
    "    \n",
    "    flag ,result = captured.read()\n",
    "    \n",
    "\n",
    "# detects objects of different sizes in input image\n",
    "   \n",
    "    new = haar_data.detectMultiScale(result)\n",
    "    for x,y,w,h in new:\n",
    "    #cv2.rectangle(img,(x,y) (w,h),(b,g,r),border_thickness)\n",
    "        cv2.rectangle(result,(x,y),(x+w,y+h),(3,154,145),6)\n",
    "        faces = result[y:y+h,x:x+w, :]\n",
    "        faces = cv2.resize(faces,(50,50))\n",
    "        print(len(data))\n",
    "        if len(data)<200:\n",
    "            data.append(faces)\n",
    "#returns  x, y ,width ,height\n",
    "    cv2.imshow('result1', result)\n",
    "    if cv2.waitKey(2)== 27 or len(data)>=200:\n",
    "        break\n",
    "captured.release()\n",
    "cv2.destroyAllWindows()\n",
    "\n"
   ]
  },
  {
   "cell_type": "code",
   "execution_count": 3,
   "id": "68395908",
   "metadata": {},
   "outputs": [
    {
     "name": "stdout",
     "output_type": "stream",
     "text": [
      "0\n",
      "1\n",
      "2\n",
      "3\n",
      "4\n",
      "5\n",
      "6\n",
      "7\n",
      "8\n",
      "9\n",
      "10\n",
      "11\n",
      "12\n",
      "13\n",
      "14\n",
      "15\n",
      "16\n",
      "17\n",
      "18\n",
      "19\n",
      "20\n",
      "21\n",
      "22\n",
      "23\n",
      "24\n",
      "25\n",
      "26\n",
      "27\n",
      "28\n",
      "29\n",
      "30\n",
      "31\n",
      "32\n",
      "33\n",
      "34\n",
      "35\n",
      "36\n",
      "37\n",
      "38\n",
      "39\n",
      "40\n",
      "41\n",
      "42\n",
      "43\n",
      "44\n",
      "45\n",
      "46\n",
      "47\n",
      "48\n",
      "49\n",
      "50\n",
      "51\n",
      "52\n",
      "53\n",
      "54\n",
      "55\n",
      "56\n",
      "57\n",
      "58\n",
      "59\n",
      "60\n",
      "61\n",
      "62\n",
      "63\n",
      "64\n",
      "65\n",
      "66\n",
      "67\n",
      "68\n",
      "69\n",
      "70\n",
      "71\n",
      "72\n",
      "73\n",
      "74\n",
      "75\n",
      "76\n",
      "77\n",
      "78\n",
      "79\n",
      "80\n",
      "81\n",
      "82\n",
      "83\n",
      "84\n",
      "85\n",
      "86\n",
      "87\n",
      "88\n",
      "89\n",
      "90\n",
      "91\n",
      "92\n",
      "93\n",
      "94\n",
      "95\n",
      "96\n",
      "97\n",
      "98\n",
      "99\n"
     ]
    }
   ],
   "source": [
    "import numpy as np\n",
    "import cv2\n",
    "#!/usr/bin/python3 \n",
    "# -*- coding: utf-8 -*-\n",
    "captures = cv2.VideoCapture(0)\n",
    "data1 =[]\n",
    "haar_data = cv2.CascadeClassifier(r\"C:\\Users\\Dell\\Downloads\\haarcascade_frontalface_default.xml\")\n",
    "\n",
    "while 1:\n",
    "    \n",
    "    flag1 ,result1 = captures.read()\n",
    "    \n",
    "\n",
    "# detects objects of different sizes in input image\n",
    "   \n",
    "    new1 = haar_data.detectMultiScale(result1)\n",
    "    for x,y,w,h in new1:\n",
    "    #cv2.rectangle(img,(x,y) (w,h),(b,g,r),border_thickness)\n",
    "        cv2.rectangle(result1,(x,y),(x+w,y+h),(3,154,145),6)\n",
    "        face = result1[y:y+h,x:x+w, :]\n",
    "        face = cv2.resize(face,(50,50))\n",
    "        print(len(data1))\n",
    "        if len(data1)<100:\n",
    "            data1.append(face)\n",
    "#returns  x, y ,width ,height\n",
    "    cv2.imshow('result11', result1)\n",
    "    if cv2.waitKey(2)== 27 or len(data1)>=100:\n",
    "        break\n",
    "captures.release()\n",
    "cv2.destroyAllWindows()\n",
    "\n"
   ]
  },
  {
   "cell_type": "code",
   "execution_count": 4,
   "id": "5ba04781",
   "metadata": {},
   "outputs": [],
   "source": [
    "np.save('without_mask.npy',data)\n",
    "np.save('with_mask.npy',data1)"
   ]
  },
  {
   "cell_type": "code",
   "execution_count": 6,
   "id": "7e2acb1e",
   "metadata": {},
   "outputs": [],
   "source": [
    "with_mask = np.load('with_mask.npy')\n",
    "without_mask = np.load('without_mask.npy')"
   ]
  },
  {
   "cell_type": "code",
   "execution_count": 7,
   "id": "811f9c18",
   "metadata": {},
   "outputs": [
    {
     "data": {
      "text/plain": [
       "<matplotlib.image.AxesImage at 0x1d7e295a340>"
      ]
     },
     "execution_count": 7,
     "metadata": {},
     "output_type": "execute_result"
    },
    {
     "data": {
      "image/png": "[encoded data removed]",
      "text/plain": [
       "<Figure size 432x288 with 1 Axes>"
      ]
     },
     "metadata": {
      "needs_background": "light"
     },
     "output_type": "display_data"
    }
   ],
   "source": [
    "import matplotlib.pyplot as plt\n",
    "plt.imshow(data1[0])"
   ]
  },
  {
   "cell_type": "code",
   "execution_count": 8,
   "id": "ce7daf15",
   "metadata": {},
   "outputs": [
    {
     "data": {
      "text/plain": [
       "(100, 50, 50, 3)"
      ]
     },
     "execution_count": 8,
     "metadata": {},
     "output_type": "execute_result"
    }
   ],
   "source": [
    "with_mask.shape"
   ]
  },
  {
   "cell_type": "code",
   "execution_count": 9,
   "id": "4ab35cf8",
   "metadata": {},
   "outputs": [
    {
     "data": {
      "text/plain": [
       "(200, 50, 50, 3)"
      ]
     },
     "execution_count": 9,
     "metadata": {},
     "output_type": "execute_result"
    }
   ],
   "source": [
    "without_mask.shape\n"
   ]
  },
  {
   "cell_type": "code",
   "execution_count": 10,
   "id": "46e8d88f",
   "metadata": {},
   "outputs": [],
   "source": [
    "without_mask = without_mask.reshape(200,50*50*3)\n",
    "with_mask = with_mask.reshape(100,50*50*3)"
   ]
  },
  {
   "cell_type": "code",
   "execution_count": 11,
   "id": "270aaf37",
   "metadata": {},
   "outputs": [
    {
     "data": {
      "text/plain": [
       "(100, 7500)"
      ]
     },
     "execution_count": 11,
     "metadata": {},
     "output_type": "execute_result"
    }
   ],
   "source": [
    "with_mask.shape"
   ]
  },
  {
   "cell_type": "code",
   "execution_count": 12,
   "id": "dc003ed1",
   "metadata": {},
   "outputs": [],
   "source": [
    "# concatenate data to same array\n",
    "x = np.r_[without_mask,with_mask]"
   ]
  },
  {
   "cell_type": "code",
   "execution_count": 13,
   "id": "27b54bf9",
   "metadata": {},
   "outputs": [
    {
     "data": {
      "text/plain": [
       "(300, 7500)"
      ]
     },
     "execution_count": 13,
     "metadata": {},
     "output_type": "execute_result"
    }
   ],
   "source": [
    "x.shape"
   ]
  },
  {
   "cell_type": "code",
   "execution_count": 14,
   "id": "3015abfe",
   "metadata": {},
   "outputs": [],
   "source": [
    "# The zeros() function is used to get a new array of given shape and type, filled with zeros. \n",
    "label = np.zeros(x.shape[0])\n",
    "label[200: ] = 1.0"
   ]
  },
  {
   "cell_type": "code",
   "execution_count": 15,
   "id": "13402379",
   "metadata": {},
   "outputs": [],
   "source": [
    "names = {0:'without_mask' , 1:'with_mask'}"
   ]
  },
  {
   "cell_type": "code",
   "execution_count": 114,
   "id": "19a2a3de",
   "metadata": {},
   "outputs": [],
   "source": [
    "from sklearn.svm import SVC\n",
    "from sklearn.metrics import accuracy_score\n",
    "from sklearn.model_selection import train_test_split"
   ]
  },
  {
   "cell_type": "code",
   "execution_count": null,
   "id": "8d2950e7",
   "metadata": {},
   "outputs": [],
   "source": []
  },
  {
   "cell_type": "code",
   "execution_count": 115,
   "id": "c9f8000a",
   "metadata": {
    "scrolled": true
   },
   "outputs": [
    {
     "data": {
      "text/plain": [
       "(195, 7500)"
      ]
     },
     "execution_count": 115,
     "metadata": {},
     "output_type": "execute_result"
    }
   ],
   "source": [
    "x_train.shape"
   ]
  },
  {
   "cell_type": "code",
   "execution_count": 133,
   "id": "d6c21ccf",
   "metadata": {},
   "outputs": [],
   "source": [
    "x_train , x_test,y_train , y_test = train_test_split(x,label,test_size=0.36)"
   ]
  },
  {
   "cell_type": "code",
   "execution_count": 134,
   "id": "22bdb21a",
   "metadata": {},
   "outputs": [],
   "source": [
    "from sklearn.decomposition import PCA\n",
    "pca = PCA(n_components=3)\n",
    "x_train =pca.fit_transform(x_train)\n"
   ]
  },
  {
   "cell_type": "code",
   "execution_count": 135,
   "id": "4c57a457",
   "metadata": {},
   "outputs": [],
   "source": [
    "x_train , x_test,y_train , y_test = train_test_split(x,label,test_size=0.35)"
   ]
  },
  {
   "cell_type": "code",
   "execution_count": 136,
   "id": "f450dc78",
   "metadata": {},
   "outputs": [
    {
     "data": {
      "text/plain": [
       "SVC()"
      ]
     },
     "execution_count": 136,
     "metadata": {},
     "output_type": "execute_result"
    }
   ],
   "source": [
    "\n",
    "\n",
    "svm = SVC()\n",
    "svm.fit(x_train,y_train)\n",
    "\n"
   ]
  },
  {
   "cell_type": "code",
   "execution_count": 137,
   "id": "27fa99a4",
   "metadata": {},
   "outputs": [],
   "source": [
    "# x_test=pca.transform(x_test)\n",
    "y_pred = svm.predict(x_test)"
   ]
  },
  {
   "cell_type": "code",
   "execution_count": 138,
   "id": "65b2df8f",
   "metadata": {},
   "outputs": [
    {
     "data": {
      "text/plain": [
       "1.0"
      ]
     },
     "execution_count": 138,
     "metadata": {},
     "output_type": "execute_result"
    }
   ],
   "source": [
    "accuracy_score(y_test,y_pred)"
   ]
  },
  {
   "cell_type": "code",
   "execution_count": 1,
   "id": "9d326caa",
   "metadata": {},
   "outputs": [
    {
     "ename": "NameError",
     "evalue": "name 'cv2' is not defined",
     "output_type": "error",
     "traceback": [
      "\u001b[1;31m---------------------------------------------------------------------------\u001b[0m",
      "\u001b[1;31mNameError\u001b[0m                                 Traceback (most recent call last)",
      "Input \u001b[1;32mIn [1]\u001b[0m, in \u001b[0;36m<cell line: 1>\u001b[1;34m()\u001b[0m\n\u001b[1;32m----> 1\u001b[0m captured \u001b[38;5;241m=\u001b[39m \u001b[43mcv2\u001b[49m\u001b[38;5;241m.\u001b[39mVideoCapture(\u001b[38;5;241m0\u001b[39m)\n\u001b[0;32m      2\u001b[0m data \u001b[38;5;241m=\u001b[39m[]\n\u001b[0;32m      3\u001b[0m haar_data \u001b[38;5;241m=\u001b[39m cv2\u001b[38;5;241m.\u001b[39mCascadeClassifier(\u001b[38;5;124mr\u001b[39m\u001b[38;5;124m\"\u001b[39m\u001b[38;5;124mC:\u001b[39m\u001b[38;5;124m\\\u001b[39m\u001b[38;5;124mUsers\u001b[39m\u001b[38;5;124m\\\u001b[39m\u001b[38;5;124mDell\u001b[39m\u001b[38;5;124m\\\u001b[39m\u001b[38;5;124mDownloads\u001b[39m\u001b[38;5;124m\\\u001b[39m\u001b[38;5;124mhaarcascade_frontalface_default.xml\u001b[39m\u001b[38;5;124m\"\u001b[39m)\n",
      "\u001b[1;31mNameError\u001b[0m: name 'cv2' is not defined"
     ]
    }
   ],
   "source": [
    "captured = cv2.VideoCapture(0)\n",
    "data =[]\n",
    "haar_data = cv2.CascadeClassifier(r\"C:\\Users\\Dell\\Downloads\\haarcascade_frontalface_default.xml\")\n",
    "font = cv2.FONT_HERSHEY_COMPLEX\n",
    "while 1:\n",
    "    \n",
    "    flag ,result = captured.read()\n",
    "    \n",
    "\n",
    "# detects objects of different sizes in input image\n",
    "   \n",
    "    new = haar_data.detectMultiScale(result)\n",
    "    for x,y,w,h in new:\n",
    "    #cv2.rectangle(img,(x,y) (w,h),(b,g,r),border_thickness)\n",
    "        cv2.rectangle(result,(x,y),(x+w,y+h),(3,154,145),6)\n",
    "        faces = result[y:y+h,x:x+w, :]\n",
    "        faces = cv2.resize(faces,(50,50))\n",
    "        faces = faces.reshape(1,-1)\n",
    "        pred = svm.predict(faces)[0]\n",
    "        n = names[int(pred)]\n",
    "        cv2.putText(result,n,(x,y),font,1,(244,34,0),2)\n",
    "        print(n)\n",
    "    cv2.imshow('result1', result)\n",
    "    if cv2.waitKey(2)== 27:\n",
    "        break\n",
    "captures.release()\n",
    "cv2.destroyAllWindows()\n"
   ]
  },
  {
   "cell_type": "code",
   "execution_count": null,
   "id": "69c2d974",
   "metadata": {},
   "outputs": [],
   "source": []
  }
 ],
 "metadata": {
  "kernelspec": {
   "display_name": "Python 3 (ipykernel)",
   "language": "python",
   "name": "python3"
  },
  "language_info": {
   "codemirror_mode": {
    "name": "ipython",
    "version": 3
   },
   "file_extension": ".py",
   "mimetype": "text/x-python",
   "name": "python",
   "nbconvert_exporter": "python",
   "pygments_lexer": "ipython3",
   "version": "3.9.12"
  }
 },
 "nbformat": 4,
 "nbformat_minor": 5
}
